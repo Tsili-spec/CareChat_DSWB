{
 "cells": [
  {
   "cell_type": "markdown",
   "id": "07685223-c864-4b0c-bf90-5945a5416a35",
   "metadata": {},
   "source": [
    "# IMPORTING LIBRARIES"
   ]
  },
  {
   "cell_type": "code",
   "execution_count": 232,
   "id": "b001db84-37f5-463d-bc09-b6232e36d026",
   "metadata": {},
   "outputs": [
    {
     "name": "stdout",
     "output_type": "stream",
     "text": [
      "Requirement already satisfied: textblob in /Users/anaconda3/lib/python3.12/site-packages (0.19.0)\n",
      "Requirement already satisfied: nltk>=3.9 in /Users/anaconda3/lib/python3.12/site-packages (from textblob) (3.9.1)\n",
      "Requirement already satisfied: click in /Users/anaconda3/lib/python3.12/site-packages (from nltk>=3.9->textblob) (8.1.7)\n",
      "Requirement already satisfied: joblib in /Users/anaconda3/lib/python3.12/site-packages (from nltk>=3.9->textblob) (1.4.2)\n",
      "Requirement already satisfied: regex>=2021.8.3 in /Users/anaconda3/lib/python3.12/site-packages (from nltk>=3.9->textblob) (2023.10.3)\n",
      "Requirement already satisfied: tqdm in /Users/anaconda3/lib/python3.12/site-packages (from nltk>=3.9->textblob) (4.66.4)\n"
     ]
    }
   ],
   "source": [
    "!pip install textblob\n"
   ]
  },
  {
   "cell_type": "code",
   "execution_count": 234,
   "id": "5a6766c2-b8b8-40e0-a209-afcf3c7b5259",
   "metadata": {},
   "outputs": [
    {
     "name": "stderr",
     "output_type": "stream",
     "text": [
      "[nltk_data] Downloading package punkt to /Users/user/nltk_data...\n",
      "[nltk_data]   Package punkt is already up-to-date!\n"
     ]
    },
    {
     "data": {
      "text/plain": [
       "True"
      ]
     },
     "execution_count": 234,
     "metadata": {},
     "output_type": "execute_result"
    }
   ],
   "source": [
    "import nltk\n",
    "nltk.download('punkt')"
   ]
  },
  {
   "cell_type": "code",
   "execution_count": 246,
   "id": "545c0bfb-315b-42d6-86de-862168d4b539",
   "metadata": {},
   "outputs": [],
   "source": [
    "import re\n",
    "from textblob import TextBlob\n",
    "from typing import List, Optional"
   ]
  },
  {
   "cell_type": "markdown",
   "id": "b77b7c28-b57b-4808-b705-9faeadf0d631",
   "metadata": {},
   "source": [
    "# Preprocess Review Text"
   ]
  },
  {
   "cell_type": "code",
   "execution_count": 249,
   "id": "b6d4dd71-8dfc-436c-a337-8038e59a02c0",
   "metadata": {},
   "outputs": [],
   "source": [
    "def preprocess(text: str) -> str:\n",
    "    text = text.lower()                                 # Convert to lowercase\n",
    "    text = re.sub(r\"[^\\w\\s]\", \"\", text)                 # Remove punctuation\n",
    "    text = re.sub(r\"\\s+\", \" \", text)                    # remove whitespace\n",
    "    return text.strip()"
   ]
  },
  {
   "cell_type": "markdown",
   "id": "320063cf-08bc-447e-ab6f-05dd76944571",
   "metadata": {},
   "source": [
    "# NLP Sentiment (Text-Based)"
   ]
  },
  {
   "cell_type": "code",
   "execution_count": 252,
   "id": "3f58188f-df7b-4ca6-ab09-9047958b4e66",
   "metadata": {},
   "outputs": [],
   "source": [
    "def get_sentiment_from_text(text: str) -> str:\n",
    "    blob = TextBlob(text)\n",
    "    polarity = blob.sentiment.polarity\n",
    "    if polarity > 0.1:\n",
    "        return \"positive\"\n",
    "    elif polarity < -0.1:\n",
    "        return \"negative\"\n",
    "    else:\n",
    "        return \"neutral\""
   ]
  },
  {
   "cell_type": "markdown",
   "id": "8192adab-7617-498e-a84b-11d245bbcedf",
   "metadata": {},
   "source": [
    "# Sentiment Classification (from star rating)"
   ]
  },
  {
   "cell_type": "code",
   "execution_count": 255,
   "id": "56ccf70e-b428-4074-bf18-8f8bc03f729d",
   "metadata": {},
   "outputs": [],
   "source": [
    "def get_sentiment_from_rating(rating: int) -> str:\n",
    "    if rating >= 4:\n",
    "        return \"positive\"\n",
    "    elif rating == 3:\n",
    "        return \"neutral\"\n",
    "    else:\n",
    "        return \"negative\""
   ]
  },
  {
   "cell_type": "markdown",
   "id": "d570d799-88ea-47ab-9e13-7fb80b966c1d",
   "metadata": {},
   "source": [
    "# Topic Extraction"
   ]
  },
  {
   "cell_type": "code",
   "execution_count": 294,
   "id": "a8a36b8a-a2ed-494a-afdb-15ea8088d526",
   "metadata": {},
   "outputs": [],
   "source": [
    "def extract_topics(text: str) -> List[str]:\n",
    "    topic_keywords = {\n",
    "        \"wait_time\": [\"wait\", \"delay\", \"long queue\", \"waiting\", \"slow\"],\n",
    "        \"staff_attitude\": [\"rude\", \"impolite\", \"shouted\", \"disrespectful\", \"unfriendly\", \"nonchalant\", \"care\"],\n",
    "        \"medication\": [\"drug\", \"pill\", \"prescription\", \"medication\", \"dose\", \"tablet\"],\n",
    "        \"cost\": [\"expensive\", \"bill\", \"cost\", \"money\", \"price\"]\n",
    "    }\n",
    "\n",
    "    found_topics = []\n",
    "    for topic, keywords in topic_keywords.items():\n",
    "        for word in keywords:\n",
    "            if word in text:\n",
    "                found_topics.append(topic)\n",
    "                break  # only add topic once\n",
    "    return found_topics\n"
   ]
  },
  {
   "cell_type": "markdown",
   "id": "4448c310-3dea-47d9-a819-8e94f3ce6d8f",
   "metadata": {},
   "source": [
    "# Urgency Flagging"
   ]
  },
  {
   "cell_type": "code",
   "execution_count": 261,
   "id": "edcaa694-321a-4269-9597-d8eb5fcd14f2",
   "metadata": {},
   "outputs": [],
   "source": [
    "def flag_urgent(text: str) -> bool:\n",
    "    urgent_keywords = [\n",
    "        \"wrong drug\", \"bleeding\", \"dying\", \"emergency\",\n",
    "        \"critical\", \"injury\", \"pain\", \"severe\", \"unconscious\", \"collapsed\"\n",
    "    ]\n",
    "    return any(word in text for word in urgent_keywords)"
   ]
  },
  {
   "cell_type": "markdown",
   "id": "1e964afa-f97c-431b-a521-4a9354835783",
   "metadata": {},
   "source": [
    "# Full Analysis Function"
   ]
  },
  {
   "cell_type": "code",
   "execution_count": 285,
   "id": "8cf73673-dae3-4dc2-ad74-5b7fd6681f43",
   "metadata": {},
   "outputs": [],
   "source": [
    "def analyze_feedback(text: Optional[str] = None, rating: Optional[int] = None) -> dict:\n",
    "    # Case 1: No input at all\n",
    "    if not text and rating is None:\n",
    "        return {\"error\": \"No input text or rating provided.\"}\n",
    "\n",
    "    result = {}\n",
    "    clean_text = preprocess(text) if text else \"\"\n",
    "\n",
    "    # Case 2: Use NLP sentiment if text is given (regardless of rating)\n",
    "    if text and clean_text.strip():  # ensure text is not just spaces\n",
    "        nlp_sentiment = get_sentiment_from_text(clean_text)\n",
    "        result[\"sentiment\"] = nlp_sentiment\n",
    "        \n",
    "    # Case 3: If no text (or just empty spaces), fallback to rating sentiment\n",
    "    elif rating is not None:\n",
    "        rating_sentiment = get_sentiment_from_rating(rating)\n",
    "        result[\"sentiment\"] = rating_sentiment\n",
    "   # Case 4: Topics are only gotten for negative sentiments and if a topic for a rating is not gotten it is flag unidentified\n",
    "    if text and clean_text.strip():\n",
    "        if result[\"sentiment\"] == \"negative\":\n",
    "            topics = extract_topics(clean_text)\n",
    "            result[\"topics\"] = topics if topics else 'Unidentified'\n",
    "        result[\"urgent_flag\"] = flag_urgent(clean_text)\n",
    "\n",
    "    return result"
   ]
  },
  {
   "cell_type": "markdown",
   "id": "f08b2812-ce5e-40ae-b259-c7a51f7a7a5b",
   "metadata": {},
   "source": [
    "# Example"
   ]
  },
  {
   "cell_type": "code",
   "execution_count": 304,
   "id": "f9d2118e-1074-482d-a2b5-9cffbdc5114f",
   "metadata": {},
   "outputs": [
    {
     "name": "stdout",
     "output_type": "stream",
     "text": [
      "{'sentiment': 'neutral', 'urgent_flag': False}\n"
     ]
    }
   ],
   "source": [
    "star_rating = 2\n",
    "text = \"The Doctor cared so much about me\"\n",
    "print(analyze_feedback(text = 'text', rating = star_rating))"
   ]
  },
  {
   "cell_type": "code",
   "execution_count": null,
   "id": "4f95c55b-ace5-46e2-a7bf-df538cbb3cf8",
   "metadata": {},
   "outputs": [],
   "source": []
  },
  {
   "cell_type": "code",
   "execution_count": null,
   "id": "dd8e48da-c074-4734-b52a-6b58c2a6f8d6",
   "metadata": {},
   "outputs": [],
   "source": []
  },
  {
   "cell_type": "code",
   "execution_count": null,
   "id": "ceec78e8-2919-46d9-8911-ea2a1d44b906",
   "metadata": {},
   "outputs": [],
   "source": []
  }
 ],
 "metadata": {
  "kernelspec": {
   "display_name": "Python 3 (ipykernel)",
   "language": "python",
   "name": "python3"
  },
  "language_info": {
   "codemirror_mode": {
    "name": "ipython",
    "version": 3
   },
   "file_extension": ".py",
   "mimetype": "text/x-python",
   "name": "python",
   "nbconvert_exporter": "python",
   "pygments_lexer": "ipython3",
   "version": "3.12.4"
  }
 },
 "nbformat": 4,
 "nbformat_minor": 5
}
